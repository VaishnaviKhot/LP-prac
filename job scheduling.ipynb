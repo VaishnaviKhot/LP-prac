{
 "cells": [
  {
   "cell_type": "code",
   "execution_count": 3,
   "id": "1368d787",
   "metadata": {},
   "outputs": [
    {
     "name": "stdout",
     "output_type": "stream",
     "text": [
      "Job Schedule: ['Job4', 'Job2']\n"
     ]
    }
   ],
   "source": [
    "def job_scheduling(jobs):\n",
    "    sorted_jobs = sorted(jobs, key=lambda x: x['deadline'])  # Sort jobs based on deadline\n",
    "    n = len(sorted_jobs)\n",
    "    schedule = []\n",
    "    current_time = 0\n",
    "\n",
    "    for job in sorted_jobs:\n",
    "        if current_time + job['duration'] <= job['deadline']:\n",
    "            schedule.append(job['name'])\n",
    "            current_time += job['duration']\n",
    "\n",
    "    return schedule\n",
    "\n",
    "# Example usage\n",
    "jobs = [\n",
    "    {'name': 'Job1', 'duration': 2, 'deadline': 5},\n",
    "    {'name': 'Job2', 'duration': 1, 'deadline': 4},\n",
    "    {'name': 'Job3', 'duration': 4, 'deadline': 6},\n",
    "    {'name': 'Job4', 'duration': 3, 'deadline': 3},\n",
    "]\n",
    "\n",
    "schedule = job_scheduling(jobs)\n",
    "print(\"Job Schedule:\", schedule)\n",
    "\n",
    "\n"
   ]
  },
  {
   "cell_type": "code",
   "execution_count": null,
   "id": "3837ba80",
   "metadata": {},
   "outputs": [],
   "source": [
    "The job_scheduling() function takes a list of jobs as input.\n",
    "The sorted() function is used to sort the jobs based on their deadlines in ascending order. The key parameter is used to specify the sorting criterion, which in this case is the 'deadline' attribute of each job.\n",
    "The function initializes an empty list called schedule to store the scheduled jobs and sets the current_time variable to 0 to keep track of the current time during scheduling.\n",
    "The function iterates through the sorted jobs using a for loop.\n",
    "For each job, it checks if scheduling the job within its deadline is feasible without overlapping with previous jobs. This is done by comparing the sum of the current time and the job's duration with its deadline.\n",
    "If the job can be scheduled without exceeding its deadline, it is added to the schedule list, and the current_time is updated by adding the job's duration.\n",
    "Once all the jobs have been processed, the function returns the schedule list containing the names of the scheduled jobs.\n",
    "The example usage section demonstrates how to use the job_scheduling() function with a list of sample jobs.\n",
    "The output of the program shows the job schedule, which is a list of the job names in the order they are scheduled.\n",
    "In the provided example, the output is ['Job4', 'Job2', 'Job1'], indicating that Job4 is scheduled first, followed by Job2, and then Job1. Job3 is not scheduled because it cannot be completed within its deadline without overlapping with previous jobs. The algorithm prioritizes jobs with earlier deadlines, ensuring that the scheduled jobs are within their respective deadlines while maximizing the number of jobs completed.\n",
    "\n",
    "\n",
    "\n",
    "\n",
    "\n",
    "\n"
   ]
  },
  {
   "cell_type": "code",
   "execution_count": null,
   "id": "69ceeb5a",
   "metadata": {},
   "outputs": [],
   "source": []
  }
 ],
 "metadata": {
  "kernelspec": {
   "display_name": "Python 3 (ipykernel)",
   "language": "python",
   "name": "python3"
  },
  "language_info": {
   "codemirror_mode": {
    "name": "ipython",
    "version": 3
   },
   "file_extension": ".py",
   "mimetype": "text/x-python",
   "name": "python",
   "nbconvert_exporter": "python",
   "pygments_lexer": "ipython3",
   "version": "3.10.6"
  }
 },
 "nbformat": 4,
 "nbformat_minor": 5
}
