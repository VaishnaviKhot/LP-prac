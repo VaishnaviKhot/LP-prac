{
 "cells": [
  {
   "cell_type": "code",
   "execution_count": 1,
   "id": "1fbb864b",
   "metadata": {},
   "outputs": [
    {
     "name": "stdout",
     "output_type": "stream",
     "text": [
      "Encrypted message: b'^\\xa0\\x11\\x07\\xa8%3\\xc5\\xc6f\\x16\\xf8\\n\\x9dL]'\n",
      "Decrypted message: b'Hello, World!'\n"
     ]
    }
   ],
   "source": [
    "from Cryptodome.Cipher import AES\n",
    "from Cryptodome.Random import get_random_bytes\n",
    "from Cryptodome.Util.Padding import pad, unpad\n",
    "\n",
    "def encrypt_message(key, plaintext):\n",
    "    cipher = AES.new(key, AES.MODE_ECB)\n",
    "    ciphertext = cipher.encrypt(pad(plaintext, AES.block_size))\n",
    "    return ciphertext\n",
    "\n",
    "def decrypt_message(key, ciphertext):\n",
    "    cipher = AES.new(key, AES.MODE_ECB)\n",
    "    decrypted_message = unpad(cipher.decrypt(ciphertext), AES.block_size)\n",
    "    return decrypted_message\n",
    "\n",
    "# Example usage\n",
    "key = get_random_bytes(16)  # Generate a random 128-bit key\n",
    "plaintext = b\"Hello, World!\"\n",
    "\n",
    "ciphertext = encrypt_message(key, plaintext)\n",
    "print(\"Encrypted message:\", ciphertext)\n",
    "\n",
    "decrypted_message = decrypt_message(key, ciphertext)\n",
    "print(\"Decrypted message:\", decrypted_message)\n"
   ]
  },
  {
   "cell_type": "code",
   "execution_count": null,
   "id": "072cd9e4",
   "metadata": {},
   "outputs": [],
   "source": [
    "We import the necessary modules: AES from Cryptodome.Cipher for encryption and decryption, get_random_bytes from Cryptodome.Random for generating a random key, and pad and unpad from Cryptodome.Util.Padding for handling padding.\n",
    "\n",
    "The encrypt_message() function takes a key and a plaintext message as input. It creates an AES cipher object using the key and ECB (Electronic Codebook) mode. The plaintext is padded using the pad() function to ensure it aligns with the block size of AES. The function encrypts the padded plaintext using the cipher and returns the ciphertext.\n",
    "\n",
    "The decrypt_message() function takes a key and a ciphertext message as input. It creates an AES cipher object using the key and ECB mode. The ciphertext is decrypted using the cipher, and the padding is removed from the decrypted message using the unpad() function. The function returns the unpadded decrypted message.\n",
    "\n",
    "In the example usage section, a random 128-bit key is generated using get_random_bytes(). The plaintext message, \"Hello, World!\", is defined.\n",
    "\n",
    "The encrypt_message() function is called with the key and plaintext to encrypt the message. The resulting ciphertext is printed.\n",
    "\n",
    "The decrypt_message() function is called with the key and ciphertext to decrypt the message. The decrypted message is printed.\n",
    "\n",
    "In summary, the code demonstrates how to use the Cryptodome library to perform encryption and decryption using the AES algorithm. The plaintext is padded before encryption and then unpadded after decryption to ensure proper alignment with the block size."
   ]
  }
 ],
 "metadata": {
  "kernelspec": {
   "display_name": "Python 3 (ipykernel)",
   "language": "python",
   "name": "python3"
  },
  "language_info": {
   "codemirror_mode": {
    "name": "ipython",
    "version": 3
   },
   "file_extension": ".py",
   "mimetype": "text/x-python",
   "name": "python",
   "nbconvert_exporter": "python",
   "pygments_lexer": "ipython3",
   "version": "3.10.6"
  }
 },
 "nbformat": 4,
 "nbformat_minor": 5
}
