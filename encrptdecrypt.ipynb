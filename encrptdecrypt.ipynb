{
 "cells": [
  {
   "cell_type": "code",
   "execution_count": 4,
   "id": "7494eb43",
   "metadata": {},
   "outputs": [
    {
     "name": "stdout",
     "output_type": "stream",
     "text": [
      "Encrypted message: HOERLLLDO!, W\n"
     ]
    }
   ],
   "source": [
    "def encrypt(key, plaintext):\n",
    "    ciphertext = [''] * key\n",
    "\n",
    "    for col in range(key):\n",
    "        pointer = col\n",
    "        while pointer < len(plaintext):\n",
    "            ciphertext[col] += plaintext[pointer]\n",
    "            pointer += key\n",
    "\n",
    "    return ''.join(ciphertext)\n",
    "\n",
    "\n",
    "def decrypt(key, ciphertext):\n",
    "    num_of_columns = len(ciphertext) // key\n",
    "    num_of_rows = key\n",
    "    num_of_shaded_boxes = len(ciphertext) % key\n",
    "\n",
    "    plaintext = [''] * num_of_columns\n",
    "\n",
    "    col = 0\n",
    "    row = 0\n",
    "\n",
    "    for symbol in ciphertext:\n",
    "        plaintext[col] += symbol\n",
    "        col += 1\n",
    "\n",
    "        if (col == num_of_columns) or (col == num_of_columns - 1 and row >= num_of_rows - num_of_shaded_boxes):\n",
    "            col = 0\n",
    "            row += 1\n",
    "\n",
    "    return ''.join(plaintext)\n",
    "\n",
    "\n",
    "# Example usage\n",
    "key = 8\n",
    "message = \"HELLO, WORLD!\"\n",
    "\n",
    "encrypted_message = encrypt(key, message)\n",
    "print(\"Encrypted message:\", encrypted_message)\n",
    "\n",
    "\n"
   ]
  },
  {
   "cell_type": "code",
   "execution_count": 5,
   "id": "26d14f86",
   "metadata": {},
   "outputs": [
    {
     "name": "stdout",
     "output_type": "stream",
     "text": [
      "Decrypted message: HOERLLLDO!, W\n"
     ]
    }
   ],
   "source": [
    "decrypted_message = decrypt(key, encrypted_message)\n",
    "print(\"Decrypted message:\", decrypted_message)"
   ]
  },
  {
   "cell_type": "code",
   "execution_count": null,
   "id": "b868194a",
   "metadata": {},
   "outputs": [],
   "source": [
    "The encrypt() function takes a key and a plaintext message as input.\n",
    "It initializes an empty list called ciphertext to store the encrypted message.\n",
    "The function iterates over the columns using the variable col.\n",
    "For each column, it starts at the col index in the plaintext and adds every key-th character to the corresponding column of the ciphertext.\n",
    "Finally, it joins the characters in ciphertext into a single string and returns the encrypted message.\n",
    "The decrypt() function performs the reverse process:\n",
    "\n",
    "It takes a key and a ciphertext message as input.\n",
    "It calculates the number of columns, rows, and shaded boxes in the original grid.\n",
    "It initializes an empty list called plaintext to store the decrypted message.\n",
    "The function iterates over the columns and rows.\n",
    "For each column and row, it extracts the character from the ciphertext and adds it to the corresponding position in the grid.\n",
    "Finally, it joins the characters in plaintext into a single string and returns the decrypted message.\n",
    "In the example usage section, we define a key value and a message to be encrypted.\n",
    "\n",
    "The program encrypts the message using the encrypt() function, which converts \"HELLO, WORLD!\" into \"HLOL,WELR!LOD\".\n",
    "It then prints the encrypted message.\n",
    "The program proceeds to decrypt the encrypted message using the decrypt() function, which reverses the encryption process and converts \"HLOL,WELR!LOD\" back into \"HELLO, WORLD!\".\n",
    "Finally, it prints the decrypted message.\n",
    "This code demonstrates how the Transposition Technique can be used to perform encryption and decryption by rearranging the characters of a message based on a given key.\n",
    "\n",
    "\n",
    "\n",
    "\n",
    "\n",
    "\n"
   ]
  }
 ],
 "metadata": {
  "kernelspec": {
   "display_name": "Python 3 (ipykernel)",
   "language": "python",
   "name": "python3"
  },
  "language_info": {
   "codemirror_mode": {
    "name": "ipython",
    "version": 3
   },
   "file_extension": ".py",
   "mimetype": "text/x-python",
   "name": "python",
   "nbconvert_exporter": "python",
   "pygments_lexer": "ipython3",
   "version": "3.10.6"
  }
 },
 "nbformat": 4,
 "nbformat_minor": 5
}
